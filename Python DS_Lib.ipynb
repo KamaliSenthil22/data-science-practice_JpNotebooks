{
 "cells": [
  {
   "cell_type": "markdown",
   "id": "adf078a6-1f82-48b3-ba57-0470da476b8d",
   "metadata": {},
   "source": [
    "# Python Data Structures & Libraries"
   ]
  },
  {
   "cell_type": "markdown",
   "id": "19bf15e8-dad2-4c61-a650-f6d7db11aa3e",
   "metadata": {},
   "source": [
    "## 1.Given a list of numbers, count the frequency of each element and return it as a dictionary"
   ]
  },
  {
   "cell_type": "code",
   "execution_count": 7,
   "id": "313b5386-a40a-41c7-9d0f-1ccf13e5275a",
   "metadata": {},
   "outputs": [
    {
     "name": "stdout",
     "output_type": "stream",
     "text": [
      "{10: 3, 20: 1, 30: 1, 40: 1, 50: 1}\n"
     ]
    }
   ],
   "source": [
    "list_of_no=[10,20,20,30,40,40,50]\n",
    "Empty_dic={10}\n",
    "for Each_value in list_of_no:\n",
    "    if Each_value in Empty_dic:\n",
    "        Empty_list[Each_value]=Empty_list[Each_value]+1\n",
    "    else:\n",
    "        Empty_list[Each_value]=1\n",
    "print(Empty_list)        \n",
    "    "
   ]
  },
  {
   "cell_type": "markdown",
   "id": "9905c93f-2ac3-49a2-8176-9ba85464b522",
   "metadata": {},
   "source": [
    "## 2.Write a function that removes duplicates from a list and maintains the original order using sets.\n"
   ]
  },
  {
   "cell_type": "markdown",
   "id": "8cc19475-e856-4249-a219-c91ef50decf9",
   "metadata": {},
   "source": []
  }
 ],
 "metadata": {
  "kernelspec": {
   "display_name": "Python 3 (ipykernel)",
   "language": "python",
   "name": "python3"
  },
  "language_info": {
   "codemirror_mode": {
    "name": "ipython",
    "version": 3
   },
   "file_extension": ".py",
   "mimetype": "text/x-python",
   "name": "python",
   "nbconvert_exporter": "python",
   "pygments_lexer": "ipython3",
   "version": "3.10.11"
  }
 },
 "nbformat": 4,
 "nbformat_minor": 5
}
