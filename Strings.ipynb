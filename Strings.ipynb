{
 "cells": [
  {
   "cell_type": "markdown",
   "id": "87379907-4d11-4613-8793-2a1cdc447201",
   "metadata": {},
   "source": [
    "## 1.Count the number of vowels in a string"
   ]
  },
  {
   "cell_type": "code",
   "execution_count": 36,
   "id": "abdf6644-79dd-43f6-b18f-02b9c81fd9e7",
   "metadata": {},
   "outputs": [
    {
     "name": "stdin",
     "output_type": "stream",
     "text": [
      "Enter the string: KamalI SEnthiL\n"
     ]
    },
    {
     "name": "stdout",
     "output_type": "stream",
     "text": [
      "5\n"
     ]
    }
   ],
   "source": [
    "n=list(input(\"Enter the string:\"))\n",
    "vowels=list(\"aeiouAEIOU\")\n",
    "count=0\n",
    "for i in n:\n",
    "    if i in vowels:\n",
    "        count=count+1\n",
    "print(count)       \n"
   ]
  },
  {
   "cell_type": "markdown",
   "id": "aaf90a16-910d-4ed5-a6b4-b7bff6ede082",
   "metadata": {},
   "source": [
    "## 2.Check if a string is a palindrome"
   ]
  },
  {
   "cell_type": "code",
   "execution_count": 43,
   "id": "8bbb3105-eae4-445a-a5ef-bb6333531ad7",
   "metadata": {},
   "outputs": [
    {
     "name": "stdin",
     "output_type": "stream",
     "text": [
      "Enter the word: kamali\n"
     ]
    },
    {
     "name": "stdout",
     "output_type": "stream",
     "text": [
      "The word kamali is not palindrome\n"
     ]
    }
   ],
   "source": [
    "Word=input(\"Enter the word:\")\n",
    "if Word == Word[4::-1]:\n",
    "    print(f\"The word {Word} is palindrome\")\n",
    "else:\n",
    "    print(f\"The word {Word} is not palindrome\")"
   ]
  },
  {
   "cell_type": "markdown",
   "id": "227849d3-fd98-46ec-84d2-c7fde19781ed",
   "metadata": {},
   "source": [
    "## 3.Find the first non-repeating character in a string\n"
   ]
  },
  {
   "cell_type": "code",
   "execution_count": 6,
   "id": "b0868d11-9ce3-4956-ac26-33c36343a8ae",
   "metadata": {},
   "outputs": [
    {
     "name": "stdin",
     "output_type": "stream",
     "text": [
      "Enter the word: Kamali\n"
     ]
    },
    {
     "name": "stdout",
     "output_type": "stream",
     "text": [
      "k\n"
     ]
    }
   ],
   "source": [
    "Word=input(\"Enter the word:\")\n",
    "def first_non_repeating_char(Word):\n",
    "    for i in Word:\n",
    "        if Word.count(i) == 1:\n",
    "            return i\n",
    "    return None\n",
    "    result = first_non_repeating_char(Word)\n",
    "print(result)"
   ]
  },
  {
   "cell_type": "markdown",
   "id": "2089e2d8-2eb9-4f5a-a2da-a4f8f324438c",
   "metadata": {},
   "source": [
    "## 4.Find the longest substring without repeating characters\n"
   ]
  },
  {
   "cell_type": "code",
   "execution_count": 9,
   "id": "9de248df-3a3c-417f-88af-c4729051c9b6",
   "metadata": {},
   "outputs": [],
   "source": [
    "def longest_unique_substring(s):\n",
    "    last_seen = {}\n",
    "    start = 0\n",
    "    max_len = 0\n",
    "\n",
    "    for end in range(len(s)):\n",
    "        char = s[end]\n",
    "        if char in last_seen and last_seen[char] >= start:\n",
    "            start = last_seen[char] + 1\n",
    "        last_seen[char] = end\n",
    "        max_len = max(max_len, end - start + 1)\n",
    "\n",
    "    return max_len"
   ]
  },
  {
   "cell_type": "code",
   "execution_count": 10,
   "id": "b424a74d-98de-4ce9-bec2-888b1644052c",
   "metadata": {},
   "outputs": [
    {
     "name": "stdout",
     "output_type": "stream",
     "text": [
      "a\n",
      "b\n",
      "c\n",
      "a\n",
      "b\n",
      "c\n",
      "b\n",
      "b\n"
     ]
    },
    {
     "data": {
      "text/plain": [
       "3"
      ]
     },
     "execution_count": 10,
     "metadata": {},
     "output_type": "execute_result"
    }
   ],
   "source": [
    "longest_unique_substring(\"abcabcbb\")"
   ]
  },
  {
   "cell_type": "markdown",
   "id": "45ec801c-503c-4f7a-b179-f77f6a5eb277",
   "metadata": {},
   "source": [
    "## 5.Remove all duplicate characters from a string while maintaining order"
   ]
  },
  {
   "cell_type": "code",
   "execution_count": 8,
   "id": "44526174-7efd-4e29-bbbc-72f900401ac0",
   "metadata": {},
   "outputs": [
    {
     "name": "stdin",
     "output_type": "stream",
     "text": [
      "Enter the Word: Kamali\n"
     ]
    },
    {
     "name": "stdout",
     "output_type": "stream",
     "text": [
      "{'m', 'K', 'i', 'l', 'a'}\n"
     ]
    }
   ],
   "source": [
    "Word=set(input(\"Enter the Word:\"))\n",
    "print (Word)"
   ]
  },
  {
   "cell_type": "code",
   "execution_count": 15,
   "id": "9cd56701-c3be-4f60-97cf-1897e36bab12",
   "metadata": {},
   "outputs": [],
   "source": [
    "def removing_duplicate(s):\n",
    "    seen=set()\n",
    "    result=\"\" # to print in a order\n",
    "    for char in s:\n",
    "        if char not in seen:\n",
    "            seen.add(char)\n",
    "            result=result+char\n",
    "    print(seen)\n",
    "    print (result)"
   ]
  },
  {
   "cell_type": "code",
   "execution_count": 16,
   "id": "eb7e63a6-574d-4290-a551-7f4b6f6fa20c",
   "metadata": {},
   "outputs": [
    {
     "name": "stdout",
     "output_type": "stream",
     "text": [
      "{'m', 'i', 'k', 'l', 'a'}\n",
      "kamli\n"
     ]
    }
   ],
   "source": [
    "removing_duplicate(\"kamali\")"
   ]
  },
  {
   "cell_type": "markdown",
   "id": "32fff484-f1c2-4837-ad10-8339803321aa",
   "metadata": {},
   "source": [
    "## 6.Write a function that capitalizes the first letter of every word in a sentence.\n"
   ]
  },
  {
   "cell_type": "code",
   "execution_count": 27,
   "id": "84fb956a-0bea-4054-8008-2a40d0713b34",
   "metadata": {},
   "outputs": [],
   "source": [
    "def capitalizing_First_Letter(sentence):\n",
    "    Words=[]\n",
    "    for word in sentence.split():\n",
    "        Words.append(word.capitalize())\n",
    "    New_sentence=\" \".join(Words)\n",
    "    print(New_sentence)\n",
    "    "
   ]
  },
  {
   "cell_type": "code",
   "execution_count": 28,
   "id": "7bac94ce-f77b-4148-80e2-584b20c1717c",
   "metadata": {},
   "outputs": [
    {
     "name": "stdout",
     "output_type": "stream",
     "text": [
      "Iam A Pro Programmer\n"
     ]
    }
   ],
   "source": [
    "capitalizing_First_Letter(\"iam a pro programmer\")"
   ]
  },
  {
   "cell_type": "markdown",
   "id": "9708130f-4b97-411f-abae-1cf5a2e14123",
   "metadata": {},
   "source": [
    "## 7.Write a function to check if two strings are anagrams (contain the same letters in a different order)."
   ]
  },
  {
   "cell_type": "code",
   "execution_count": 36,
   "id": "3b08602f-5e50-456f-87d4-9a464454368b",
   "metadata": {},
   "outputs": [],
   "source": [
    "def find_anagrams(s1,s2):\n",
    "    if sorted(s1) == sorted(s2):\n",
    "        Result=\"The Entered words {},{} are anagram word\"\n",
    "        print(Result.format(s1,s2))\n",
    "    else:\n",
    "        Result=\"The Entered words {},{} are not anagram word\"\n",
    "        print(Result.format(s1,s2))"
   ]
  },
  {
   "cell_type": "code",
   "execution_count": 37,
   "id": "b96c46f7-5e19-4e80-8bf4-adf6ff7fb02c",
   "metadata": {},
   "outputs": [
    {
     "name": "stdout",
     "output_type": "stream",
     "text": [
      "The Entered words listen,silent are anagram word\n"
     ]
    }
   ],
   "source": [
    "find_anagrams(\"listen\",\"silent\")"
   ]
  },
  {
   "cell_type": "code",
   "execution_count": null,
   "id": "d9063eda-d1bd-4125-8c66-db605c7590cf",
   "metadata": {},
   "outputs": [],
   "source": []
  },
  {
   "cell_type": "code",
   "execution_count": null,
   "id": "ecb39cb0-9208-4967-96d8-c29a32ff670e",
   "metadata": {},
   "outputs": [],
   "source": []
  },
  {
   "cell_type": "code",
   "execution_count": null,
   "id": "62fdc1ad-0e18-4428-a904-bd17cfbd3024",
   "metadata": {},
   "outputs": [],
   "source": []
  },
  {
   "cell_type": "code",
   "execution_count": null,
   "id": "15a4fec9-7a08-437e-9800-5246a14b36a5",
   "metadata": {},
   "outputs": [],
   "source": []
  },
  {
   "cell_type": "code",
   "execution_count": null,
   "id": "1d04f5a5-0d00-415d-9497-d58eb829c9b4",
   "metadata": {},
   "outputs": [],
   "source": []
  },
  {
   "cell_type": "code",
   "execution_count": null,
   "id": "a71f643f-db16-415d-8a00-7c067505d777",
   "metadata": {},
   "outputs": [],
   "source": []
  }
 ],
 "metadata": {
  "kernelspec": {
   "display_name": "Python 3 (ipykernel)",
   "language": "python",
   "name": "python3"
  },
  "language_info": {
   "codemirror_mode": {
    "name": "ipython",
    "version": 3
   },
   "file_extension": ".py",
   "mimetype": "text/x-python",
   "name": "python",
   "nbconvert_exporter": "python",
   "pygments_lexer": "ipython3",
   "version": "3.10.11"
  }
 },
 "nbformat": 4,
 "nbformat_minor": 5
}
