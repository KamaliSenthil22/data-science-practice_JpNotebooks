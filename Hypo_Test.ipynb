{
 "cells": [
  {
   "cell_type": "markdown",
   "id": "df103c1e-12ce-46fd-ac40-764f8e8e9eea",
   "metadata": {},
   "source": [
    "# Hypothesis Testing\n"
   ]
  },
  {
   "cell_type": "markdown",
   "id": "467433fc-19f5-4ec3-a278-6fbb5c3affa3",
   "metadata": {},
   "source": [
    "## 1. Check if two categorical variables are independent using a contingency table.\n"
   ]
  },
  {
   "cell_type": "code",
   "execution_count": 2,
   "id": "7d4ac05e-b425-40a7-be14-5973fc238b37",
   "metadata": {},
   "outputs": [
    {
     "name": "stdout",
     "output_type": "stream",
     "text": [
      "Chi2 Statistic = 9.469696969696969\n",
      "P-Value = 0.0020889387721520552\n",
      "Reject null hypothesis → Variables are dependent.\n"
     ]
    }
   ],
   "source": [
    "import pandas as pd\n",
    "from scipy.stats import chi2_contingency\n",
    "\n",
    "# Example data\n",
    "data = {'Gender': ['Male', 'Male', 'Female', 'Female'],\n",
    "        'Preference': ['Pizza', 'No Pizza', 'Pizza', 'No Pizza'],\n",
    "        'Count': [30, 10, 25, 35]}\n",
    "\n",
    "df = pd.DataFrame(data)\n",
    "\n",
    "# Pivot into contingency table\n",
    "contingency_table = df.pivot(index='Gender', columns='Preference', values='Count')\n",
    "\n",
    "# Chi-Square Test\n",
    "chi2, p, dof, expected = chi2_contingency(contingency_table)\n",
    "\n",
    "print(f\"Chi2 Statistic = {chi2}\")\n",
    "print(f\"P-Value = {p}\")\n",
    "\n",
    "if p < 0.05:\n",
    "    print(\"Reject null hypothesis → Variables are dependent.\")\n",
    "else:\n",
    "    print(\"Fail to reject null → Variables are likely independent.\")\n"
   ]
  },
  {
   "cell_type": "markdown",
   "id": "d8c299b6-4405-40c0-8864-7be3ef6277f3",
   "metadata": {},
   "source": [
    "## 2. Compare variances of two or more groups."
   ]
  },
  {
   "cell_type": "markdown",
   "id": "8c213ff3-db16-4ee4-a5f8-df948b7f04a4",
   "metadata": {},
   "source": [
    "Question: checking if two or more groups have the same variability (spread) in their data\n",
    "* Levene's Test is preferred when data may not be normally distributed.\n",
    "\n",
    "* Bartlett’s Test is more powerful but assumes normality.\n",
    "\n"
   ]
  },
  {
   "cell_type": "markdown",
   "id": "f48d28b8-cab2-42b0-863f-da6ce20904d6",
   "metadata": {},
   "source": [
    "📌 Null Hypothesis (H₀):\n",
    "All groups have equal variances.\n",
    "\n",
    "📌 Alternative Hypothesis (H₁):\n",
    "At least one group has different variance."
   ]
  },
  {
   "cell_type": "code",
   "execution_count": 3,
   "id": "f0798320-7141-4419-ae56-be3276d82b41",
   "metadata": {},
   "outputs": [
    {
     "name": "stdout",
     "output_type": "stream",
     "text": [
      "Levene’s test → stat: 18.929674266359328 p-value: 1.8292041082089777e-08\n",
      "Bartlett’s test → stat: 54.79473324888809 p-value: 1.2632079676909706e-12\n"
     ]
    }
   ],
   "source": [
    "import numpy as np\n",
    "from scipy.stats import levene, bartlett\n",
    "\n",
    "# Simulated data from 3 groups\n",
    "group1 = np.random.normal(50, 10, 100)  # mean=50, std=10\n",
    "group2 = np.random.normal(60, 15, 100)  # different std\n",
    "group3 = np.random.normal(55, 10, 100)\n",
    "\n",
    "# Levene's test (more robust)\n",
    "stat, p = levene(group1, group2, group3)\n",
    "print(\"Levene’s test → stat:\", stat, \"p-value:\", p)\n",
    "\n",
    "# Bartlett’s test (assumes normality)\n",
    "stat2, p2 = bartlett(group1, group2, group3)\n",
    "print(\"Bartlett’s test → stat:\", stat2, \"p-value:\", p2)"
   ]
  },
  {
   "cell_type": "markdown",
   "id": "7665e55f-2872-43a9-af9c-171220013d29",
   "metadata": {},
   "source": [
    "Interpretation:\n",
    "If p > 0.05 → fail to reject H₀ → variances are equal\n",
    "\n",
    "If p ≤ 0.05 → reject H₀ → at least one variance is different"
   ]
  },
  {
   "cell_type": "markdown",
   "id": "296fb067-c4cf-4060-b4c1-afba447aca92",
   "metadata": {},
   "source": [
    "## 3. Perform a hypothesis test and write conditional logic to \"Reject\" or \"Fail to reject\" based on p-value."
   ]
  },
  {
   "cell_type": "markdown",
   "id": "bb286a95-6040-4bd0-b1b9-9a0168469287",
   "metadata": {},
   "source": [
    "### One sample T-test"
   ]
  },
  {
   "cell_type": "code",
   "execution_count": 5,
   "id": "348f897d-6a42-430e-a4ae-805f0c6b8587",
   "metadata": {},
   "outputs": [
    {
     "name": "stdout",
     "output_type": "stream",
     "text": [
      "p_value is 0.6072402083246451\n",
      "Fail to reject the null hypothesis\n"
     ]
    }
   ],
   "source": [
    "import numpy as np\n",
    "from scipy import stats\n",
    "\n",
    "\n",
    "sample_data=np.array([90,70,93,85,75,98,35,45,70,85,56,76,89,94,54,36,78,77,89,60])\n",
    "hypothesised_mean=75\n",
    "t_stats,p_values=stats.ttest_1samp(sample_data,hypothesised_mean)\n",
    "print(f\"p_value is {p_values}\")\n",
    "if p_values<0.05:\n",
    "    print(\"Rejected the null hypothesis\")\n",
    "else:\n",
    "    print(\"Fail to reject the null hypothesis\")"
   ]
  },
  {
   "cell_type": "markdown",
   "id": "b98e4fee-dbdb-4e33-88c9-4351f4785107",
   "metadata": {},
   "source": [
    "## 4. Test whether the average height of a group is different from a given population mean."
   ]
  },
  {
   "cell_type": "code",
   "execution_count": 6,
   "id": "a8b08ea7-a6c4-484e-9df2-1ef09904db27",
   "metadata": {},
   "outputs": [
    {
     "name": "stdout",
     "output_type": "stream",
     "text": [
      "T-statistic: 2.926\n",
      "P-value: 0.007\n"
     ]
    }
   ],
   "source": [
    "import numpy as np\n",
    "from scipy import stats\n",
    "\n",
    "# Sample data (e.g. measured heights of 30 people)\n",
    "heights = np.random.normal(loc=168, scale=5, size=30)\n",
    "\n",
    "# Population mean (assumed or given)\n",
    "population_mean = 165\n",
    "\n",
    "# Perform one-sample t-test\n",
    "t_stat, p_value = stats.ttest_1samp(heights, population_mean)\n",
    "\n",
    "print(f\"T-statistic: {t_stat:.3f}\")\n",
    "print(f\"P-value: {p_value:.3f}\")\n"
   ]
  },
  {
   "cell_type": "markdown",
   "id": "462323e8-da4a-46e7-8bd8-3b2b371b06a2",
   "metadata": {},
   "source": [
    "If p-value < 0.05 → Reject H₀ → Sample mean is significantly different from 165\n",
    "\n",
    "If p-value ≥ 0.05 → Fail to reject H₀ → Sample mean is not significantly different"
   ]
  },
  {
   "cell_type": "code",
   "execution_count": null,
   "id": "01dabe62-3781-482c-8db0-56781393b766",
   "metadata": {},
   "outputs": [],
   "source": []
  },
  {
   "cell_type": "code",
   "execution_count": null,
   "id": "97d46896-c5fd-4576-bd17-320537b1d32e",
   "metadata": {},
   "outputs": [],
   "source": []
  }
 ],
 "metadata": {
  "kernelspec": {
   "display_name": "Python 3 (ipykernel)",
   "language": "python",
   "name": "python3"
  },
  "language_info": {
   "codemirror_mode": {
    "name": "ipython",
    "version": 3
   },
   "file_extension": ".py",
   "mimetype": "text/x-python",
   "name": "python",
   "nbconvert_exporter": "python",
   "pygments_lexer": "ipython3",
   "version": "3.10.11"
  }
 },
 "nbformat": 4,
 "nbformat_minor": 5
}
