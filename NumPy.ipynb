{
 "cells": [
  {
   "cell_type": "markdown",
   "id": "7a6445b3-2f1e-4032-a028-28670f85f815",
   "metadata": {},
   "source": [
    "# NumPy"
   ]
  },
  {
   "cell_type": "markdown",
   "id": "4e4941e3-b4a3-4e58-821a-e795e051b04e",
   "metadata": {},
   "source": [
    "## 1. Given a space-separated list of integers, convert it into a NumPy array.0"
   ]
  },
  {
   "cell_type": "code",
   "execution_count": 1,
   "id": "1bdeac01-3896-4b17-90a2-6892e86151c2",
   "metadata": {},
   "outputs": [],
   "source": [
    "import numpy as np"
   ]
  },
  {
   "cell_type": "code",
   "execution_count": 12,
   "id": "2bd36150-a0ad-4f4c-aba6-e976d624fcb3",
   "metadata": {},
   "outputs": [
    {
     "name": "stdout",
     "output_type": "stream",
     "text": [
      "[10 20 30 40 50]\n"
     ]
    }
   ],
   "source": [
    "list_1=\"10 20 30 40 50\"\n",
    "splited_numbers=list_1.split()\n",
    "s=list(map(int,splited_numbers))\n",
    "arr1=np.array(s)\n",
    "print(arr1)"
   ]
  },
  {
   "cell_type": "code",
   "execution_count": 13,
   "id": "d40afdd0-6c4c-414a-9718-7e906c835d56",
   "metadata": {},
   "outputs": [
    {
     "data": {
      "text/plain": [
       "1"
      ]
     },
     "execution_count": 13,
     "metadata": {},
     "output_type": "execute_result"
    }
   ],
   "source": [
    "arr1.ndim"
   ]
  },
  {
   "cell_type": "markdown",
   "id": "f325c257-9087-4191-9ca9-98e10d58e77f",
   "metadata": {},
   "source": [
    "## 2. Create a 3x3 NumPy array from a list of 9 integers."
   ]
  },
  {
   "cell_type": "code",
   "execution_count": 17,
   "id": "df6694d3-29c9-4c64-ab49-62f55f8ef8a0",
   "metadata": {},
   "outputs": [
    {
     "name": "stdout",
     "output_type": "stream",
     "text": [
      "[[1 2 3]\n",
      " [4 5 6]\n",
      " [7 8 9]]\n"
     ]
    }
   ],
   "source": [
    "list_2=[1,2,3,4,5,6,7,8,9]\n",
    "arr=np.array(list_2).reshape(3,3)\n",
    "print(arr)"
   ]
  },
  {
   "cell_type": "code",
   "execution_count": 18,
   "id": "76408226-687a-4b41-9c3b-1b942a2708a0",
   "metadata": {},
   "outputs": [
    {
     "data": {
      "text/plain": [
       "2"
      ]
     },
     "execution_count": 18,
     "metadata": {},
     "output_type": "execute_result"
    }
   ],
   "source": [
    "arr.ndim"
   ]
  },
  {
   "cell_type": "markdown",
   "id": "9fbdc6ef-2762-45a7-96a0-704f092ca44c",
   "metadata": {},
   "source": [
    "## 3. Given two 2D square matrices, compute their dot product and cross product using NumPy.\n"
   ]
  },
  {
   "cell_type": "code",
   "execution_count": 38,
   "id": "c906b4b1-a185-4710-9646-6e575ee98e77",
   "metadata": {},
   "outputs": [
    {
     "name": "stdout",
     "output_type": "stream",
     "text": [
      "[[27 30]\n",
      " [78 87]]\n"
     ]
    }
   ],
   "source": [
    "A=np.array([[1,2],[4,5]])\n",
    "B=np.array([[7,8],[10,11]])\n",
    "dot_product=np.dot(A,B)\n",
    "print(dot_product)\n"
   ]
  },
  {
   "cell_type": "code",
   "execution_count": 39,
   "id": "65ee668d-4517-48c9-975c-056a581e09b1",
   "metadata": {},
   "outputs": [
    {
     "name": "stdout",
     "output_type": "stream",
     "text": [
      "[[ 7  8]\n",
      " [10 11]]\n"
     ]
    },
    {
     "data": {
      "text/plain": [
       "2"
      ]
     },
     "execution_count": 39,
     "metadata": {},
     "output_type": "execute_result"
    }
   ],
   "source": [
    "print(B)\n",
    "B.ndim"
   ]
  },
  {
   "cell_type": "markdown",
   "id": "7e673f19-bd65-41b0-9a58-4456db66310c",
   "metadata": {},
   "source": [
    "* Cross product only works for 1D and 3D vector\n",
    "* There is no general mathematical definition of cross product for 2D matrices."
   ]
  },
  {
   "cell_type": "markdown",
   "id": "0bd4a4a7-7a85-4c28-816c-843fd20e56bf",
   "metadata": {},
   "source": [
    "## 4. Find the minimum value of each row and then the maximum of those minimums."
   ]
  },
  {
   "cell_type": "code",
   "execution_count": 44,
   "id": "205c97cf-447c-4640-8c8a-9eb0cb6b99bc",
   "metadata": {},
   "outputs": [
    {
     "name": "stdout",
     "output_type": "stream",
     "text": [
      "[[1 2 3]]\n",
      "3\n"
     ]
    }
   ],
   "source": [
    "arr_3D = np.array([\n",
    "    [[1,2,3],[6,7,8,],[11,12,13]]\n",
    "])\n",
    "row_min=np.min(arr_3D,axis=1)# finding the minimum across the columns hence axis=1\n",
    "print(row_min)\n",
    "Max_of_min=np.max(row_min)\n",
    "print(Max_of_min)"
   ]
  },
  {
   "cell_type": "code",
   "execution_count": null,
   "id": "f6f0e984-9b1c-42e7-9e90-d3cbee57145d",
   "metadata": {},
   "outputs": [],
   "source": []
  },
  {
   "cell_type": "code",
   "execution_count": null,
   "id": "ade30f2b-7e40-44db-b927-28b29713c59f",
   "metadata": {},
   "outputs": [],
   "source": []
  },
  {
   "cell_type": "code",
   "execution_count": null,
   "id": "e4e607f1-d93a-412c-aa54-07fc0469dd35",
   "metadata": {},
   "outputs": [],
   "source": []
  }
 ],
 "metadata": {
  "kernelspec": {
   "display_name": "Python 3 (ipykernel)",
   "language": "python",
   "name": "python3"
  },
  "language_info": {
   "codemirror_mode": {
    "name": "ipython",
    "version": 3
   },
   "file_extension": ".py",
   "mimetype": "text/x-python",
   "name": "python",
   "nbconvert_exporter": "python",
   "pygments_lexer": "ipython3",
   "version": "3.10.11"
  }
 },
 "nbformat": 4,
 "nbformat_minor": 5
}
