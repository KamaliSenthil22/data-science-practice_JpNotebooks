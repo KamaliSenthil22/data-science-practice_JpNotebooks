{
 "cells": [
  {
   "cell_type": "markdown",
   "id": "120ddbde-22b4-4bf6-b3fa-28a5f4ae3a84",
   "metadata": {},
   "source": [
    "# OOPS\n"
   ]
  },
  {
   "cell_type": "markdown",
   "id": "d126c304-d5f0-4347-b611-a3a277887d13",
   "metadata": {},
   "source": [
    "## 1. Create a class Student with attributes name, roll_number, and marks.\n",
    "## Create 2 objects and print their details.\n"
   ]
  },
  {
   "cell_type": "code",
   "execution_count": null,
   "id": "135953a5-8220-416e-a931-d99af6e389e5",
   "metadata": {},
   "outputs": [],
   "source": []
  },
  {
   "cell_type": "code",
   "execution_count": 10,
   "id": "7687ba60-218e-4387-9389-cb7ff4e8377e",
   "metadata": {},
   "outputs": [],
   "source": [
    "class Student: #class is created with attributes\n",
    "    def __init__(self,Name,Roll_Number,Marks):\n",
    "        self.Name=Name\n",
    "        self.Roll_Number=Roll_Number\n",
    "        self.Marks=Marks\n",
    "    def display(self):\n",
    "        print(f\"Name of the Student: {self.Name}\")\n",
    "        print(f\"Roll Number: {self.Roll_Number}\")\n",
    "        print(f\"Total Marks: {self.Marks}\")\n",
    "    "
   ]
  },
  {
   "cell_type": "code",
   "execution_count": 9,
   "id": "6aa32e51-2e2b-4bc0-bd4c-f9f5d7861483",
   "metadata": {},
   "outputs": [
    {
     "name": "stdout",
     "output_type": "stream",
     "text": [
      "Name of the Student: Kamali\n",
      "Roll Number: 22\n",
      "Total Marks: 492\n",
      "Name of the Student: Chandra\n",
      "Roll Number: 3\n",
      "Total Marks: 490\n"
     ]
    }
   ],
   "source": [
    "Student_1=Student(\"Kamali\",\"22\",\"492\")\n",
    "Student_2=Student(\"Chandra\",\"3\",\"490\")\n",
    "Student_1.display()\n",
    "Student_2.display()"
   ]
  },
  {
   "cell_type": "markdown",
   "id": "c988de9e-b637-453d-b0bc-5483d8c541a2",
   "metadata": {},
   "source": [
    "## 2. Create a base class Vehicle with a method start(). Create a derived class\n",
    "## Car that inherits from Vehicle and adds a method drive().\n"
   ]
  },
  {
   "cell_type": "code",
   "execution_count": 11,
   "id": "a1f4469d-c680-4685-9882-136d4874a67e",
   "metadata": {},
   "outputs": [],
   "source": [
    "class Vehicle:\n",
    "    def start(self):\n",
    "        print(\"Vehicle is starting\")\n",
    "class Car(Vehicle):\n",
    "    def drive(self):\n",
    "        print(\"Car is now driving\")"
   ]
  },
  {
   "cell_type": "code",
   "execution_count": 14,
   "id": "f1434068-691a-465e-96f1-ae31bef9f04f",
   "metadata": {},
   "outputs": [
    {
     "name": "stdout",
     "output_type": "stream",
     "text": [
      "Vehicle is starting\n",
      "Car is now driving\n"
     ]
    }
   ],
   "source": [
    "my_car=Car()\n",
    "my_car.start()\n",
    "my_car.drive()"
   ]
  },
  {
   "cell_type": "markdown",
   "id": "c8649110-1b8f-4f00-a357-795a74faf8ff",
   "metadata": {},
   "source": [
    "## 3. Create a class Animal with a method sound(). Create a class Dog that\n",
    "## overrides the sound() method to print \"Bark\""
   ]
  },
  {
   "cell_type": "code",
   "execution_count": 23,
   "id": "c662ee0c-435e-4a42-826b-8666a9ca05bb",
   "metadata": {},
   "outputs": [],
   "source": [
    "class Animal:\n",
    "    def sound(self):\n",
    "        print(\"Animal is making sound\")\n",
    "class Dog(Animal):\n",
    "    def sound(self):\n",
    "        print(\"Dog is Barking\")"
   ]
  },
  {
   "cell_type": "code",
   "execution_count": 28,
   "id": "e76920da-8ad9-4cd9-abc0-1a3525c40766",
   "metadata": {},
   "outputs": [
    {
     "name": "stdout",
     "output_type": "stream",
     "text": [
      "Animal is making sound\n",
      "Dog is Barking\n"
     ]
    }
   ],
   "source": [
    "which_Animal_1=Animal()\n",
    "which_Animal_1.sound()\n",
    "which_Animal_2=Dog()\n",
    "which_Animal_2.sound()"
   ]
  },
  {
   "cell_type": "markdown",
   "id": "61890a88-ff5e-456c-9c1b-cb8d293ab09b",
   "metadata": {},
   "source": [
    "## 4. Create a class Account with a private variable __balance. Add methods to\n",
    "## deposit and withdraw money, and to view the balance."
   ]
  },
  {
   "cell_type": "code",
   "execution_count": 59,
   "id": "ad41d64c-51bb-46da-9e69-de2cc570ec22",
   "metadata": {},
   "outputs": [],
   "source": [
    "class Account:\n",
    "    def __init__(self,Balance):\n",
    "        self.__Balance = Balance #encapsulated(protected the detail)\n",
    "    def show_Bal(self,password):\n",
    "        if password == \"Chennai@433\":\n",
    "            print(f\"Your current account balance is {self.__Balance}\")\n",
    "        else:\n",
    "            print(f\"Entered the wrong password\")\n",
    "    def deposit(self,password,deposit_amount):\n",
    "        \n",
    "        if password == \"Chennai@433\":\n",
    "            self.__Balance=self.__Balance + deposit_amount\n",
    "            print(f\"Please find the total balance {self.__Balance}\")\n",
    "        else:\n",
    "            print(\"Entered the wrong password\")\n",
    "    def withdraw_money(self,password,withdraw_amount):\n",
    "        if password == \"Chennai@433\":\n",
    "            self.__Balance=self.__Balance - withdraw_amount\n",
    "            print(f\"Please find the total balance after withdrawal {self.__Balance}\")\n",
    "        else:\n",
    "            print(\"Entered the wrong password\")   \n",
    "        "
   ]
  },
  {
   "cell_type": "code",
   "execution_count": 60,
   "id": "64b6cdcd-b909-40ee-9d79-dbe4b7859a89",
   "metadata": {},
   "outputs": [
    {
     "name": "stdout",
     "output_type": "stream",
     "text": [
      "Your current account balance is 80000\n"
     ]
    }
   ],
   "source": [
    "Kamali_acc=Account(80000)\n",
    "Kamali_acc.show_Bal(\"Chennai@433\")"
   ]
  },
  {
   "cell_type": "code",
   "execution_count": 61,
   "id": "58dfa144-fcfe-49cd-97fa-5a31d18b5953",
   "metadata": {},
   "outputs": [
    {
     "name": "stdout",
     "output_type": "stream",
     "text": [
      "Please find the total balance 90000\n"
     ]
    }
   ],
   "source": [
    "Kamali_acc.deposit(\"Chennai@433\",10000)"
   ]
  },
  {
   "cell_type": "code",
   "execution_count": 62,
   "id": "110ae9dc-4ee0-45f2-9a84-5ce0b12c0bb5",
   "metadata": {},
   "outputs": [
    {
     "name": "stdout",
     "output_type": "stream",
     "text": [
      "Please find the total balance after withdrawal 80000\n"
     ]
    }
   ],
   "source": [
    "Kamali_acc.withdraw_money(\"Chennai@433\",10000)"
   ]
  },
  {
   "cell_type": "code",
   "execution_count": null,
   "id": "2c486ae9-6ebe-497b-b459-d47d3e5077d2",
   "metadata": {},
   "outputs": [],
   "source": []
  },
  {
   "cell_type": "code",
   "execution_count": null,
   "id": "680329e2-8da2-46b9-a6e4-849f659533e3",
   "metadata": {},
   "outputs": [],
   "source": []
  },
  {
   "cell_type": "code",
   "execution_count": null,
   "id": "7d99ad16-cc5b-4e7d-8e86-f8698eebe9bf",
   "metadata": {},
   "outputs": [],
   "source": []
  },
  {
   "cell_type": "code",
   "execution_count": null,
   "id": "547ec58a-2f90-4cf5-83d8-b830923e9eab",
   "metadata": {},
   "outputs": [],
   "source": []
  },
  {
   "cell_type": "code",
   "execution_count": null,
   "id": "bf158fb7-eddc-4c1c-9f75-63e52147e637",
   "metadata": {},
   "outputs": [],
   "source": []
  },
  {
   "cell_type": "code",
   "execution_count": null,
   "id": "0626857d-eece-4d5f-93db-5b0cc6f6bdc6",
   "metadata": {},
   "outputs": [],
   "source": []
  }
 ],
 "metadata": {
  "kernelspec": {
   "display_name": "Python 3 (ipykernel)",
   "language": "python",
   "name": "python3"
  },
  "language_info": {
   "codemirror_mode": {
    "name": "ipython",
    "version": 3
   },
   "file_extension": ".py",
   "mimetype": "text/x-python",
   "name": "python",
   "nbconvert_exporter": "python",
   "pygments_lexer": "ipython3",
   "version": "3.10.11"
  }
 },
 "nbformat": 4,
 "nbformat_minor": 5
}
