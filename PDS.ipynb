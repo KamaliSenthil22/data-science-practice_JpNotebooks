{
 "cells": [
  {
   "cell_type": "markdown",
   "id": "463f7db9-f82f-4dbe-9444-104c38419d39",
   "metadata": {},
   "source": [
    "# Python Data Structures & Libraries"
   ]
  },
  {
   "cell_type": "markdown",
   "id": "9f42b36d-6314-459f-b94d-993756f38383",
   "metadata": {},
   "source": [
    "## 1.Given a list of numbers, count the frequency of each element and return it as a dictionary"
   ]
  },
  {
   "cell_type": "code",
   "execution_count": null,
   "id": "2b0dd178-b880-427b-b28b-830666df7970",
   "metadata": {},
   "outputs": [],
   "source": [
    "list_of_no=[10,20,20,30,40,40,50]\n",
    "Empty_dic={}\n",
    "for Each_value in list_of_no:\n",
    "    if Each_value in Empty_dic:\n",
    "        Empty_list[Each_value]=Empty_list[Each_value]+1\n",
    "    else:\n",
    "        Empty_list[Each_value]=1\n",
    "print(Empty_list)        \n",
    "    "
   ]
  },
  {
   "cell_type": "code",
   "execution_count": null,
   "id": "950cce50-eeee-4044-8baf-94499ab1277f",
   "metadata": {},
   "outputs": [],
   "source": []
  },
  {
   "cell_type": "markdown",
   "id": "fbca0fe5-6092-4dec-9085-24934bb11478",
   "metadata": {},
   "source": [
    "## 2.Write a function that removes duplicates from a list and maintains the original order using sets.\n"
   ]
  },
  {
   "cell_type": "code",
   "execution_count": 2,
   "id": "47b6eee0-d728-4740-b673-1f03788be3b6",
   "metadata": {},
   "outputs": [],
   "source": [
    "def remove_dup(input_list):\n",
    "    seen=set()\n",
    "    result=[]\n",
    "    for ele in input_list:\n",
    "        if ele not in seen:\n",
    "            seen.add(ele)\n",
    "            result.append(ele)\n",
    "    print(result)"
   ]
  },
  {
   "cell_type": "code",
   "execution_count": 3,
   "id": "5bf96f09-a01b-4fc2-9fcd-05f18e4c40ae",
   "metadata": {},
   "outputs": [
    {
     "name": "stdout",
     "output_type": "stream",
     "text": [
      "[1, 2, 3, 4, 5, 6, 7, 8, 9]\n"
     ]
    }
   ],
   "source": [
    "remove_dup([1,2,2,3,4,4,5,6,6,7,8,8,9])"
   ]
  },
  {
   "cell_type": "markdown",
   "id": "48969300-2bb3-477e-8e24-87e7378308e5",
   "metadata": {},
   "source": [
    "## 3.Group a list of words into a dictionary based on their starting letter"
   ]
  },
  {
   "cell_type": "code",
   "execution_count": 4,
   "id": "45080516-2dd9-4aac-b7ce-140a86a5904a",
   "metadata": {},
   "outputs": [
    {
     "name": "stdout",
     "output_type": "stream",
     "text": [
      "{'a': ['apple', 'apricot', 'avocado'], 'b': ['banana', 'blueberry'], 'c': ['cherry']}\n"
     ]
    }
   ],
   "source": [
    "words = ['apple', 'banana', 'apricot', 'blueberry', 'cherry', 'avocado']\n",
    "empty_dic={}\n",
    "for word in words:\n",
    "    first_letter=word[0]\n",
    "    empty_dic.setdefault(first_letter,[]).append(word)\n",
    "print(empty_dic)"
   ]
  },
  {
   "cell_type": "markdown",
   "id": "87c87ef7-3b2f-4454-a865-a56ee8401b63",
   "metadata": {},
   "source": [
    "## 4. Given a dictionary, return it sorted by its values in descending order"
   ]
  },
  {
   "cell_type": "code",
   "execution_count": 21,
   "id": "2bbdd9fb-23de-4c6f-8c9b-e73680f9adc9",
   "metadata": {},
   "outputs": [
    {
     "name": "stdout",
     "output_type": "stream",
     "text": [
      "[('date', 12), ('apple', 10), ('cherry', 7), ('banana', 5)]\n",
      "{'date': 12, 'apple': 10, 'cherry': 7, 'banana': 5}\n"
     ]
    }
   ],
   "source": [
    "data = {'apple': 10, 'banana': 5, 'cherry': 7, 'date': 12}\n",
    "sorted_item=sorted(data.items(),key=lambda item:item[1],reverse=True)\n",
    "print(sorted_item)\n",
    "sorted_dic=dict(sorted_item)\n",
    "print(sorted_dic)\n"
   ]
  },
  {
   "cell_type": "markdown",
   "id": "d562f097-13cd-4ba7-b019-fce9965e0c6b",
   "metadata": {},
   "source": [
    "## 5.Given a list of numbers, find the second largest without sorting the list."
   ]
  },
  {
   "cell_type": "code",
   "execution_count": 22,
   "id": "585a26b4-17a1-46e8-b850-b9697155797c",
   "metadata": {},
   "outputs": [
    {
     "name": "stdout",
     "output_type": "stream",
     "text": [
      "Second largest number is: 45\n"
     ]
    }
   ],
   "source": [
    "numbers = [10, 20, 4, 45, 99, 99, 23]\n",
    "first=second=float(\"-inf\")\n",
    "for num in numbers:\n",
    "    if num>first:\n",
    "        second=first\n",
    "        first=num\n",
    "    elif first>num>second:\n",
    "        second = num\n",
    "if second == float('-inf'):\n",
    "    print(\"No second largest number found\")\n",
    "else:\n",
    "    print(\"Second largest number is:\", second)\n",
    "        "
   ]
  },
  {
   "cell_type": "markdown",
   "id": "be6d4bcd-a29e-4632-8bfe-4bbd7a61d4bc",
   "metadata": {},
   "source": [
    "## 6.Return a list of elements that appear more than once."
   ]
  },
  {
   "cell_type": "code",
   "execution_count": 23,
   "id": "2ce034c6-91ba-4549-bdcd-423a854af4c7",
   "metadata": {},
   "outputs": [
    {
     "name": "stdout",
     "output_type": "stream",
     "text": [
      "[1, 2, 3, 4, 5, 6]\n"
     ]
    }
   ],
   "source": [
    "lst=[1,2,2,3,4,4,5,6]\n",
    "empty_list=[]\n",
    "for i in lst:\n",
    "    if i not in empty_list:\n",
    "        empty_list.append(i)\n",
    "print(empty_list) # removes the duplicate from the list\n",
    "    "
   ]
  },
  {
   "cell_type": "code",
   "execution_count": 24,
   "id": "c62c9b91-9754-4bdc-9386-a482d91ed9f2",
   "metadata": {},
   "outputs": [],
   "source": [
    "def find_duplicates(lst):\n",
    "    empty_list=[]\n",
    "    for item in lst:\n",
    "        if lst.count(item)>1:\n",
    "            if item not in empty_list:\n",
    "                empty_list.append(item)\n",
    "    print(empty_list)\n",
    "\n",
    "    "
   ]
  },
  {
   "cell_type": "code",
   "execution_count": 25,
   "id": "a70953f4-7d62-484f-968a-c533d92420ff",
   "metadata": {},
   "outputs": [
    {
     "name": "stdout",
     "output_type": "stream",
     "text": [
      "[2, 4]\n"
     ]
    }
   ],
   "source": [
    "find_duplicates([1,2,2,3,4,4,5,6])"
   ]
  },
  {
   "cell_type": "code",
   "execution_count": null,
   "id": "231b9f71-ffbe-4b4d-bdfb-9ca6c9ec8b35",
   "metadata": {},
   "outputs": [],
   "source": []
  }
 ],
 "metadata": {
  "kernelspec": {
   "display_name": "Python 3 (ipykernel)",
   "language": "python",
   "name": "python3"
  },
  "language_info": {
   "codemirror_mode": {
    "name": "ipython",
    "version": 3
   },
   "file_extension": ".py",
   "mimetype": "text/x-python",
   "name": "python",
   "nbconvert_exporter": "python",
   "pygments_lexer": "ipython3",
   "version": "3.10.11"
  }
 },
 "nbformat": 4,
 "nbformat_minor": 5
}
